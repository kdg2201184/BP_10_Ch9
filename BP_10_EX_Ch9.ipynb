{
  "nbformat": 4,
  "nbformat_minor": 0,
  "metadata": {
    "colab": {
      "provenance": [],
      "authorship_tag": "ABX9TyMG+IU43/7t3Ci2tzYBCxY+",
      "include_colab_link": true
    },
    "kernelspec": {
      "name": "python3",
      "display_name": "Python 3"
    },
    "language_info": {
      "name": "python"
    }
  },
  "cells": [
    {
      "cell_type": "markdown",
      "metadata": {
        "id": "view-in-github",
        "colab_type": "text"
      },
      "source": [
        "<a href=\"https://colab.research.google.com/github/kdg2201184/BP_10_Ch9/blob/main/BP_10_EX_Ch9.ipynb\" target=\"_parent\"><img src=\"https://colab.research.google.com/assets/colab-badge.svg\" alt=\"Open In Colab\"/></a>"
      ]
    },
    {
      "cell_type": "code",
      "execution_count": null,
      "metadata": {
        "id": "gWAlap5zn7c4"
      },
      "outputs": [],
      "source": [
        "alist = [] #리스트 생성\n",
        "sum = 0 #기초값을 0으로 설정\n",
        "\n",
        "for i in range(5): #5번 반복하기\n",
        "    i = int(input(\"정수를 입력하시오: \")) #int, input을 사용해 입력한 문자열을 정수로 변경하기\n",
        "    alist.append(i) #alist에 정수를 추가\n",
        "\n",
        "for i in alist: #alist만큼 반복\n",
        "    sum += i #기초값에 i를 더하기\n",
        "avg = sum/len(alist) #리스트의 크기\n",
        "print(\"평균=\", avg) #해당 내용을 실행 및 출력하기"
      ]
    },
    {
      "cell_type": "code",
      "source": [
        "import random #난수 불러오기\n",
        "\n",
        "counters = [0, 0, 0, 0, 0, 0] #주사위 값이 나오는 빈도를 저장\n",
        "\n",
        "for i in range(1000): #1000번 반복하기\n",
        "    value = random.randint(0, 5) #난수 범위를 0에서 5까지로 설정\n",
        "    counters[value] = counters[value] + 1 #함수의 값을 설정\n",
        "\n",
        "for i in range(6): #6번 반복하기\n",
        "    print(\"주사위가 \", i+1, \"인 경우는 \", counters[i], \"번\") #해당 내용을 실행 및 출력하기"
      ],
      "metadata": {
        "id": "JGQhVedirG28"
      },
      "execution_count": null,
      "outputs": []
    },
    {
      "cell_type": "code",
      "source": [
        "contacts = {} #공백 딕셔너리 생성\n",
        "\n",
        "while True: #무한 반복\n",
        "    name = input(\"(입력모드)이름을 입력하시오: \") #추가할 이름을 입력하기\n",
        "    if not name: #이름을 입력하지 않을 경우\n",
        "        break; #반복을 멈추기\n",
        "    tel = input(\"전화번호를 입력하시오: \") #추가할 전화번호 입력하기\n",
        "    contacts[name] = tel #함수 실행\n",
        "\n",
        "while True: #무한 반복\n",
        "    name = input(\"(검색모드)이름을 입력하시오: \") #검색할 이름을 입력하기\n",
        "    if not name: #이름을 입력하지 않을 경우\n",
        "        break; #반복을 멈추기\n",
        "    if name in contacts : #이름을 입력했을 경우\n",
        "        print(name, \"의 전화번호는\", contacts[name], \"입니다.\") #해당 내용 출력"
      ],
      "metadata": {
        "id": "UIrX8dTzrgwL"
      },
      "execution_count": null,
      "outputs": []
    },
    {
      "cell_type": "code",
      "source": [
        "import turtle #터틀그래픽 불러오기\n",
        "import random #난수 불러오기\n",
        "\n",
        "t = turtle.Turtle() #t라는 변수를 터틀로 지정하기\n",
        "t.shape(\"turtle\") #모듈의 모양을 거북이로 변경\n",
        "\n",
        "def draw_square(x, y, c): #함수 draw_square를 정의\n",
        "    t.up() #\n",
        "    t.goto(x, y)\n",
        "    t.down()\n",
        "    t.color(\"black\", c)\n",
        "    t.begin_fill()\n",
        "    t.forward(100)\n",
        "    t.left(90)\n",
        "    t.forward(100)\n",
        "    t.left(90)\n",
        "    t.forward(100)\n",
        "    t.left(90)\n",
        "    t.forward(100)\n",
        "    t.left(90)\n",
        "    t.end_fill()\n",
        "\n",
        "for c in [\"yellow\", \"red\", \"purple\", \"blue\"]:\n",
        "    x = random.randint(-100, 100)\n",
        "    y = random.randint(-100, 100)\n",
        "    draw_square(x, y, c)"
      ],
      "metadata": {
        "id": "79ed4TD2uqAn"
      },
      "execution_count": null,
      "outputs": []
    },
    {
      "cell_type": "code",
      "source": [],
      "metadata": {
        "id": "-UkMbkOCt3gI"
      },
      "execution_count": null,
      "outputs": []
    }
  ]
}